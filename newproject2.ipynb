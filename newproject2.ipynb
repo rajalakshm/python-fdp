{
 "cells": [
  {
   "cell_type": "code",
   "execution_count": null,
   "id": "bab8b971-b097-46ac-ba3a-548027345b42",
   "metadata": {},
   "outputs": [],
   "source": []
  }
 ],
 "metadata": {
  "kernelspec": {
   "display_name": "",
   "name": ""
  },
  "language_info": {
   "name": ""
  }
 },
 "nbformat": 4,
 "nbformat_minor": 5
}
